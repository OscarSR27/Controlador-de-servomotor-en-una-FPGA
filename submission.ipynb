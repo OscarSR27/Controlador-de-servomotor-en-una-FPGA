{
  "cells": [
    {
      "cell_type": "markdown",
      "metadata": {
        "id": "0J8JVYs6i4ck"
      },
      "source": [
        "# Assignment 2 - submission\n",
        "\n",
        "Use this notebook for submit your solutions. Paste here all the code that is required to run for your solution numbers to be given - you must provide here the full solution even if the test will pass with the correct numbers assigned to the variables. \n",
        "\n",
        "To round your solution to the 3rd decimal, use the python function `round(float_value, 3)` when assign the value of any of the result variables that will be checked. Also, don't change their names!\n",
        "\n",
        "You can add any additional observation or answer to the open questions as code comments."
      ]
    },
    {
      "cell_type": "code",
      "execution_count": null,
      "metadata": {
        "id": "KLFQ4j7ki4cp"
      },
      "outputs": [],
      "source": [
        "## Exercise 1\n",
        "\n",
        "import numpy as np\n",
        "import os\n",
        "\n",
        "infoFile = np.load('spike_counts.npz')\n",
        "\n",
        "spikes_neuron1 = infoFile['spikes_neuron1']\n",
        "spikes_neuron2 = infoFile['spikes_neuron2']\n",
        "spikes_unknown_stim = infoFile['spikes_unknown_stim']\n",
        "\n",
        "def probabilityMatrix(events, bins):\n",
        "  stim, _ = np.shape(events)\n",
        "\n",
        "  eventsPerBinsPerTrialPerStimulus = []\n",
        "  \n",
        "  for i in range(stim):\n",
        "    eventsPerBinsPerTrials = []\n",
        "    minNumEventsInThisBin = 0\n",
        "    maxNumEventsInThisBin = bins - 1\n",
        "\n",
        "    while(minNumEventsInThisBin <= np.max(events)):\n",
        "      eventsPerBins, = np.where( (events[i,:] >= minNumEventsInThisBin) & (events[i,:] <= maxNumEventsInThisBin) )\n",
        "      eventsPerBinsPerTrials.append(len(eventsPerBins))\n",
        "      minNumEventsInThisBin = minNumEventsInThisBin + bins\n",
        "      maxNumEventsInThisBin = maxNumEventsInThisBin + bins\n",
        "    eventsPerBinsPerTrialPerStimulus.append(eventsPerBinsPerTrials)\n",
        "  return np.asarray(eventsPerBinsPerTrialPerStimulus)/np.sum(np.asarray(eventsPerBinsPerTrialPerStimulus))\n",
        "\n",
        "def mutualInformation(probMatrix):\n",
        "  I = 0\n",
        "  row,col = np.shape(probMatrix)\n",
        "  for i in range(row):\n",
        "    p_x = np.sum(probMatrix[i,:])\n",
        "    for j in range(col):\n",
        "      p_y = np.sum(probMatrix[:,j])\n",
        "      p_xy = probMatrix[i,j]\n",
        "      if(p_x != 0 and p_y  != 0 and p_xy != 0):\n",
        "        I = I + p_xy*np.log2(p_xy/(p_x*p_y))\n",
        "  I = np.round(I,3)\n",
        "\n",
        "  return I\n",
        "\n",
        "def maxMutualInformation(probMatrix):\n",
        "  I = 0\n",
        "  row,col = np.shape(probMatrix)\n",
        "  for i in range(row):\n",
        "    p_x = np.sum(probMatrix[i,:])\n",
        "    if(p_x != 0):\n",
        "      I = I + p_x*np.log2(p_x)\n",
        "  I = -np.round(I,3)\n",
        "\n",
        "  return I\n",
        "\n",
        "# question 1, mutual information between neuron 1 and stimulus (5 spikes bins)\n",
        "mutual_info_n1 = mutualInformation(probabilityMatrix(spikes_neuron1, 5))\n",
        "\n",
        "# question 2, mutual information between neuron 2 and stimulus (5 spikes bins)\n",
        "mutual_info_n2 = mutualInformation(probabilityMatrix(spikes_neuron2, 5))\n",
        "\n",
        "# question 3, maximum mutual information between a neuron and the stimulus:\n",
        "max_mutual_info = maxMutualInformation(probabilityMatrix(spikes_neuron1, 5))\n",
        "\n",
        "# question 4, mutual information between neuron 1 and stimulus (10 spikes bins)\n",
        "mutual_info_n1_b10 = mutualInformation(probabilityMatrix(spikes_neuron1, 10))\n",
        "\n",
        "# question 5, mutual information between neuron 2 and stimulus (10 spikes bins)\n",
        "mutual_info_n2_b10 = mutualInformation(probabilityMatrix(spikes_neuron2, 10))"
      ]
    },
    {
      "cell_type": "code",
      "execution_count": null,
      "metadata": {
        "id": "19NiM73Gi4cr"
      },
      "outputs": [],
      "source": [
        "## Exercise 2\n",
        "\n",
        "# your code here\n",
        "\n",
        "meanStim7 = np.sum(spikes_neuron1[6,:])/len(spikes_neuron1[6, :])\n",
        "meanStim8 = np.sum(spikes_neuron1[7,:])/len(spikes_neuron1[7, :])\n",
        "\n",
        "variance = 0\n",
        "row,col = np.shape(spikes_neuron1)\n",
        "for i in range(row):\n",
        "  mean = np.sum(spikes_neuron1[i,:])/len(spikes_neuron1[i, :])\n",
        "  for j in range(col):\n",
        "    variance = variance + ((spikes_neuron1[i,j] - mean)**2)\n",
        "variance = np.round(variance/(row*col),3)\n",
        "\n",
        "logLikelihoodRatio = 0\n",
        "for i in range(len(spikes_unknown_stim)):\n",
        "  logLikelihoodRatio = (2*(meanStim7-meanStim8)*spikes_unknown_stim[i]) + (meanStim8**2 - meanStim7**2) + logLikelihoodRatio\n",
        "  logLikelihoodRatio = (1/(2*variance))*logLikelihoodRatio\n",
        "\n",
        "if np.round(logLikelihoodRatio,3) < 0:\n",
        "  belongsToStim = 8\n",
        "else:\n",
        "  belongsToStim = 7\n",
        "\n",
        "# question 6, estimate for the mean number of spikes that neuron 1 fires to stimulus 7\n",
        "mn_n1_stim7 = meanStim7\n",
        "\n",
        "# question 7, estimate for the mean number of spikes that neuron 1 fires to stimulus 8\n",
        "mn_n1_stim8 = meanStim8\n",
        "\n",
        "# question 8,  estimate for the variance:\n",
        "var_n1 = variance\n",
        "\n",
        "# question 10, most likely stimulus (7 or 8 - this you can type as a number and motivate in comments)\n",
        "best_guess = belongsToStim\n",
        "\n",
        "# question 11, probability of wrong estimate:\n",
        "p_wrong_estimate = 0"
      ]
    },
    {
      "cell_type": "code",
      "execution_count": null,
      "metadata": {
        "id": "zV1Kcibji4cs"
      },
      "outputs": [],
      "source": [
        ""
      ]
    }
  ],
  "metadata": {
    "kernelspec": {
      "display_name": "Python 3",
      "language": "python",
      "name": "python3"
    },
    "language_info": {
      "codemirror_mode": {
        "name": "ipython",
        "version": 3
      },
      "file_extension": ".py",
      "mimetype": "text/x-python",
      "name": "python",
      "nbconvert_exporter": "python",
      "pygments_lexer": "ipython3",
      "version": "3.7.3"
    },
    "colab": {
      "name": "submission.ipynb",
      "provenance": []
    }
  },
  "nbformat": 4,
  "nbformat_minor": 0
}